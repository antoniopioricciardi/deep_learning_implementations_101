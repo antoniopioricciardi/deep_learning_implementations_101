{
 "cells": [
  {
   "cell_type": "markdown",
   "id": "6971e5d8",
   "metadata": {},
   "source": [
    "# Laplacian"
   ]
  },
  {
   "cell_type": "markdown",
   "id": "98ad5e1d",
   "metadata": {},
   "source": [
    "Suppose you have a graph \n",
    "$𝐺=(𝑉,𝐸)$ with:\n",
    "\n",
    "$𝑛=∣𝑉∣$ nodes\n",
    "\n",
    "An adjacency matrix \n",
    "$𝐴∈𝑅^{𝑛×𝑛}$, where \n",
    "$𝐴_{𝑖𝑗}$\n",
    " is the edge weight between nodes \n",
    "$𝑖$\n",
    " and \n",
    "$𝑗$\n",
    " (0 if no edge)\n",
    "\n",
    "A degree matrix \n",
    "$𝐷$\n",
    ", which is diagonal with entries \n",
    "$𝐷_{𝑖𝑖}=\n",
    "∑_{𝑗}𝐴_{𝑖𝑗}$\n",
    " (the sum of edge weights connected to node \n",
    "$𝑖$\n",
    ")\n",
    "\n",
    "Then the unnormalized graph Laplacian is:\n",
    "\n",
    "$𝐿=𝐷−𝐴$\n"
   ]
  },
  {
   "cell_type": "code",
   "execution_count": 107,
   "id": "f4778bf3",
   "metadata": {},
   "outputs": [
    {
     "name": "stdout",
     "output_type": "stream",
     "text": [
      "Adjacency Matrix:\n",
      "[[0. 1. 0. 0.]\n",
      " [1. 0. 1. 0.]\n",
      " [0. 1. 0. 1.]\n",
      " [0. 0. 1. 0.]]\n",
      "Degree Matrix:\n",
      "[[1. 0. 0. 0.]\n",
      " [0. 2. 0. 0.]\n",
      " [0. 0. 2. 0.]\n",
      " [0. 0. 0. 1.]]\n",
      "Unnormalized Laplacian:\n",
      "[[ 1. -1.  0.  0.]\n",
      " [-1.  2. -1.  0.]\n",
      " [ 0. -1.  2. -1.]\n",
      " [ 0.  0. -1.  1.]]\n"
     ]
    }
   ],
   "source": [
    "# Let's build the graph\n",
    "\n",
    "import numpy as np\n",
    "V = np.array([0, 1, 2, 3]) # Nodes\n",
    "E = np.array([[0, 1], [1, 2], [2, 3]]) # Edges: for example, (0, 1) means there's an edge between node 0 and node 1\n",
    "\n",
    "A = np.zeros((len(V), len(V))) # Adjacency matrix\n",
    "for edge in E:\n",
    "    A[edge[0], edge[1]] = 1\n",
    "    A[edge[1], edge[0]] = 1\n",
    "\n",
    "# Here we get:\n",
    "print(\"Adjacency Matrix:\")\n",
    "print(A)\n",
    "\n",
    "D = np.diag(np.sum(A, axis=1)) # Degree matrix\n",
    "print(\"Degree Matrix:\")\n",
    "print(D)\n",
    "\n",
    "L = D - A # Unnormalized Laplacian\n",
    "print(\"Unnormalized Laplacian:\")\n",
    "print(L)"
   ]
  },
  {
   "cell_type": "markdown",
   "id": "53c92548",
   "metadata": {},
   "source": [
    "### Why D - A?\n",
    "\n",
    "1. **Degree Matrix (D)**: The degree matrix captures the total connection strength of each node. By placing these values on the diagonal, it provides a measure of how \"connected\" each node is within the graph.\n",
    "2. **Adjacency Matrix (A)**: The adjacency matrix represents the actual connections between nodes. Each entry indicates whether a direct connection exists and, in weighted graphs, the strength of that connection.\n",
    "3. **Laplacian Matrix (L = D - A)**: By subtracting the adjacency matrix from the degree matrix, we create a representation that highlights the structure of the graph. The Laplacian matrix has several important properties:\n",
    "   - It is symmetric and positive semi-definite.\n",
    "   - Its eigenvalues provide insights into the graph's connectivity and can be used for tasks like clustering and dimensionality reduction.\n"
   ]
  },
  {
   "cell_type": "markdown",
   "id": "3bb9d50f",
   "metadata": {},
   "source": [
    "## Normalized Graph Laplacian\n",
    "\n",
    "The normalized graph Laplacian is defined as:\n",
    "\n",
    "$$\n",
    "\\mathcal{L} = D^{-1/2} L D^{-1/2} = I - D^{-1/2} A D^{-1/2}\n",
    "$$\n",
    "\n",
    "Where:\n",
    "- $D^{-1/2}$ is the inverse square root of the degree matrix.\n",
    "- $I$ is the identity matrix.\n",
    "\n",
    "### Why Normalize?\n",
    "\n",
    "1. **Scale Invariance**: Normalization ensures that the Laplacian is invariant to the scale of the graph. This is particularly important in applications like spectral clustering, where the absolute values of the eigenvalues can be influenced by the degree distribution of the graph.\n",
    "2. **Improved Convergence**: In optimization problems, using the normalized Laplacian can lead to better convergence properties.\n",
    "3. **Interpretability**: The normalized Laplacian can be interpreted in terms of random walks on the graph, providing insights into the flow of information.\n"
   ]
  },
  {
   "cell_type": "code",
   "execution_count": 6,
   "id": "c1f73916",
   "metadata": {},
   "outputs": [
    {
     "name": "stdout",
     "output_type": "stream",
     "text": [
      "Normalized Laplacian:\n",
      "[[ 1.         -0.70710678  0.          0.        ]\n",
      " [-0.70710678  1.         -0.5         0.        ]\n",
      " [ 0.         -0.5         1.         -0.70710678]\n",
      " [ 0.          0.         -0.70710678  1.        ]]\n"
     ]
    }
   ],
   "source": [
    "# Normalized Laplacian\n",
    "\n",
    "D_inv_sqrt = np.linalg.inv(np.sqrt(D)) # Inverse square root of degree matrix\n",
    "L_normalized = D_inv_sqrt @ L @ D_inv_sqrt\n",
    "\n",
    "print(\"Normalized Laplacian:\")\n",
    "print(L_normalized)"
   ]
  },
  {
   "cell_type": "code",
   "execution_count": 60,
   "id": "9a16ebf0",
   "metadata": {},
   "outputs": [
    {
     "data": {
      "text/plain": [
       "array([[1., 0., 0., 0.],\n",
       "       [0., 2., 0., 0.],\n",
       "       [0., 0., 2., 0.],\n",
       "       [0., 0., 0., 1.]])"
      ]
     },
     "execution_count": 60,
     "metadata": {},
     "output_type": "execute_result"
    }
   ],
   "source": [
    "D"
   ]
  },
  {
   "cell_type": "code",
   "execution_count": 61,
   "id": "f1b9326e",
   "metadata": {},
   "outputs": [
    {
     "data": {
      "text/plain": [
       "np.float64(4.0)"
      ]
     },
     "execution_count": 61,
     "metadata": {},
     "output_type": "execute_result"
    }
   ],
   "source": [
    "det_D = np.linalg.det(D)\n",
    "det_D"
   ]
  },
  {
   "cell_type": "code",
   "execution_count": null,
   "id": "706b5661",
   "metadata": {},
   "outputs": [],
   "source": []
  }
 ],
 "metadata": {
  "kernelspec": {
   "display_name": "dl_101",
   "language": "python",
   "name": "python3"
  },
  "language_info": {
   "codemirror_mode": {
    "name": "ipython",
    "version": 3
   },
   "file_extension": ".py",
   "mimetype": "text/x-python",
   "name": "python",
   "nbconvert_exporter": "python",
   "pygments_lexer": "ipython3",
   "version": "3.9.18"
  }
 },
 "nbformat": 4,
 "nbformat_minor": 5
}
